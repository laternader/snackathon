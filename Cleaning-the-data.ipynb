{
 "cells": [
  {
   "cell_type": "markdown",
   "metadata": {},
   "source": [
    "# Import packages"
   ]
  },
  {
   "cell_type": "code",
   "execution_count": 98,
   "metadata": {},
   "outputs": [],
   "source": [
    "import pandas as pd\n",
    "import numpy as np\n",
    "import seaborn\n",
    "import matplotlib.pyplot as plt"
   ]
  },
  {
   "cell_type": "code",
   "execution_count": 99,
   "metadata": {},
   "outputs": [],
   "source": [
    "pd.set_option(\"display.max_columns\",200)"
   ]
  },
  {
   "cell_type": "code",
   "execution_count": 100,
   "metadata": {},
   "outputs": [
    {
     "data": {
      "text/plain": [
       "'N:\\\\Documents\\\\Snackathon\\\\snackathon'"
      ]
     },
     "execution_count": 100,
     "metadata": {},
     "output_type": "execute_result"
    }
   ],
   "source": [
    "pwd"
   ]
  },
  {
   "cell_type": "markdown",
   "metadata": {},
   "source": [
    "# Import recipes.csv file"
   ]
  },
  {
   "cell_type": "code",
   "execution_count": 101,
   "metadata": {},
   "outputs": [],
   "source": [
    "# Importing 2 GBs of data extracted from https://www.kaggle.com/irkaal/foodcom-recipes-and-reviews\n",
    "df = pd.read_csv('./recipes/food/recipes.csv')"
   ]
  },
  {
   "cell_type": "markdown",
   "metadata": {},
   "source": [
    "## Calculate summary statistics and null values"
   ]
  },
  {
   "cell_type": "code",
   "execution_count": 102,
   "metadata": {},
   "outputs": [
    {
     "data": {
      "text/html": [
       "<div>\n",
       "<style scoped>\n",
       "    .dataframe tbody tr th:only-of-type {\n",
       "        vertical-align: middle;\n",
       "    }\n",
       "\n",
       "    .dataframe tbody tr th {\n",
       "        vertical-align: top;\n",
       "    }\n",
       "\n",
       "    .dataframe thead th {\n",
       "        text-align: right;\n",
       "    }\n",
       "</style>\n",
       "<table border=\"1\" class=\"dataframe\">\n",
       "  <thead>\n",
       "    <tr style=\"text-align: right;\">\n",
       "      <th></th>\n",
       "      <th>RecipeId</th>\n",
       "      <th>AuthorId</th>\n",
       "      <th>AggregatedRating</th>\n",
       "      <th>ReviewCount</th>\n",
       "      <th>Calories</th>\n",
       "      <th>FatContent</th>\n",
       "      <th>SaturatedFatContent</th>\n",
       "      <th>CholesterolContent</th>\n",
       "      <th>SodiumContent</th>\n",
       "      <th>CarbohydrateContent</th>\n",
       "      <th>FiberContent</th>\n",
       "      <th>SugarContent</th>\n",
       "      <th>ProteinContent</th>\n",
       "      <th>RecipeServings</th>\n",
       "    </tr>\n",
       "  </thead>\n",
       "  <tbody>\n",
       "    <tr>\n",
       "      <th>count</th>\n",
       "      <td>522517.000000</td>\n",
       "      <td>5.225170e+05</td>\n",
       "      <td>269294.000000</td>\n",
       "      <td>275028.000000</td>\n",
       "      <td>522517.000000</td>\n",
       "      <td>522517.000000</td>\n",
       "      <td>522517.000000</td>\n",
       "      <td>522517.000000</td>\n",
       "      <td>5.225170e+05</td>\n",
       "      <td>522517.000000</td>\n",
       "      <td>522517.000000</td>\n",
       "      <td>522517.000000</td>\n",
       "      <td>522517.000000</td>\n",
       "      <td>339606.000000</td>\n",
       "    </tr>\n",
       "    <tr>\n",
       "      <th>mean</th>\n",
       "      <td>271821.436970</td>\n",
       "      <td>4.572585e+07</td>\n",
       "      <td>4.632014</td>\n",
       "      <td>5.227784</td>\n",
       "      <td>484.438580</td>\n",
       "      <td>24.614922</td>\n",
       "      <td>9.559457</td>\n",
       "      <td>86.487003</td>\n",
       "      <td>7.672639e+02</td>\n",
       "      <td>49.089092</td>\n",
       "      <td>3.843242</td>\n",
       "      <td>21.878254</td>\n",
       "      <td>17.469510</td>\n",
       "      <td>8.606191</td>\n",
       "    </tr>\n",
       "    <tr>\n",
       "      <th>std</th>\n",
       "      <td>155495.878422</td>\n",
       "      <td>2.929714e+08</td>\n",
       "      <td>0.641934</td>\n",
       "      <td>20.381347</td>\n",
       "      <td>1397.116649</td>\n",
       "      <td>111.485798</td>\n",
       "      <td>46.622621</td>\n",
       "      <td>301.987009</td>\n",
       "      <td>4.203621e+03</td>\n",
       "      <td>180.822062</td>\n",
       "      <td>8.603163</td>\n",
       "      <td>142.620191</td>\n",
       "      <td>40.128837</td>\n",
       "      <td>114.319809</td>\n",
       "    </tr>\n",
       "    <tr>\n",
       "      <th>min</th>\n",
       "      <td>38.000000</td>\n",
       "      <td>2.700000e+01</td>\n",
       "      <td>1.000000</td>\n",
       "      <td>1.000000</td>\n",
       "      <td>0.000000</td>\n",
       "      <td>0.000000</td>\n",
       "      <td>0.000000</td>\n",
       "      <td>0.000000</td>\n",
       "      <td>0.000000e+00</td>\n",
       "      <td>0.000000</td>\n",
       "      <td>0.000000</td>\n",
       "      <td>0.000000</td>\n",
       "      <td>0.000000</td>\n",
       "      <td>1.000000</td>\n",
       "    </tr>\n",
       "    <tr>\n",
       "      <th>25%</th>\n",
       "      <td>137206.000000</td>\n",
       "      <td>6.947400e+04</td>\n",
       "      <td>4.500000</td>\n",
       "      <td>1.000000</td>\n",
       "      <td>174.200000</td>\n",
       "      <td>5.600000</td>\n",
       "      <td>1.500000</td>\n",
       "      <td>3.800000</td>\n",
       "      <td>1.233000e+02</td>\n",
       "      <td>12.800000</td>\n",
       "      <td>0.800000</td>\n",
       "      <td>2.500000</td>\n",
       "      <td>3.500000</td>\n",
       "      <td>4.000000</td>\n",
       "    </tr>\n",
       "    <tr>\n",
       "      <th>50%</th>\n",
       "      <td>271758.000000</td>\n",
       "      <td>2.389370e+05</td>\n",
       "      <td>5.000000</td>\n",
       "      <td>2.000000</td>\n",
       "      <td>317.100000</td>\n",
       "      <td>13.800000</td>\n",
       "      <td>4.700000</td>\n",
       "      <td>42.600000</td>\n",
       "      <td>3.533000e+02</td>\n",
       "      <td>28.200000</td>\n",
       "      <td>2.200000</td>\n",
       "      <td>6.400000</td>\n",
       "      <td>9.100000</td>\n",
       "      <td>6.000000</td>\n",
       "    </tr>\n",
       "    <tr>\n",
       "      <th>75%</th>\n",
       "      <td>406145.000000</td>\n",
       "      <td>5.658280e+05</td>\n",
       "      <td>5.000000</td>\n",
       "      <td>4.000000</td>\n",
       "      <td>529.100000</td>\n",
       "      <td>27.400000</td>\n",
       "      <td>10.800000</td>\n",
       "      <td>107.900000</td>\n",
       "      <td>7.922000e+02</td>\n",
       "      <td>51.100000</td>\n",
       "      <td>4.600000</td>\n",
       "      <td>17.900000</td>\n",
       "      <td>25.000000</td>\n",
       "      <td>8.000000</td>\n",
       "    </tr>\n",
       "    <tr>\n",
       "      <th>max</th>\n",
       "      <td>541383.000000</td>\n",
       "      <td>2.002886e+09</td>\n",
       "      <td>5.000000</td>\n",
       "      <td>3063.000000</td>\n",
       "      <td>612854.600000</td>\n",
       "      <td>64368.100000</td>\n",
       "      <td>26740.600000</td>\n",
       "      <td>130456.400000</td>\n",
       "      <td>1.246921e+06</td>\n",
       "      <td>108294.600000</td>\n",
       "      <td>3012.000000</td>\n",
       "      <td>90682.300000</td>\n",
       "      <td>18396.200000</td>\n",
       "      <td>32767.000000</td>\n",
       "    </tr>\n",
       "  </tbody>\n",
       "</table>\n",
       "</div>"
      ],
      "text/plain": [
       "            RecipeId      AuthorId  AggregatedRating    ReviewCount  \\\n",
       "count  522517.000000  5.225170e+05     269294.000000  275028.000000   \n",
       "mean   271821.436970  4.572585e+07          4.632014       5.227784   \n",
       "std    155495.878422  2.929714e+08          0.641934      20.381347   \n",
       "min        38.000000  2.700000e+01          1.000000       1.000000   \n",
       "25%    137206.000000  6.947400e+04          4.500000       1.000000   \n",
       "50%    271758.000000  2.389370e+05          5.000000       2.000000   \n",
       "75%    406145.000000  5.658280e+05          5.000000       4.000000   \n",
       "max    541383.000000  2.002886e+09          5.000000    3063.000000   \n",
       "\n",
       "            Calories     FatContent  SaturatedFatContent  CholesterolContent  \\\n",
       "count  522517.000000  522517.000000        522517.000000       522517.000000   \n",
       "mean      484.438580      24.614922             9.559457           86.487003   \n",
       "std      1397.116649     111.485798            46.622621          301.987009   \n",
       "min         0.000000       0.000000             0.000000            0.000000   \n",
       "25%       174.200000       5.600000             1.500000            3.800000   \n",
       "50%       317.100000      13.800000             4.700000           42.600000   \n",
       "75%       529.100000      27.400000            10.800000          107.900000   \n",
       "max    612854.600000   64368.100000         26740.600000       130456.400000   \n",
       "\n",
       "       SodiumContent  CarbohydrateContent   FiberContent   SugarContent  \\\n",
       "count   5.225170e+05        522517.000000  522517.000000  522517.000000   \n",
       "mean    7.672639e+02            49.089092       3.843242      21.878254   \n",
       "std     4.203621e+03           180.822062       8.603163     142.620191   \n",
       "min     0.000000e+00             0.000000       0.000000       0.000000   \n",
       "25%     1.233000e+02            12.800000       0.800000       2.500000   \n",
       "50%     3.533000e+02            28.200000       2.200000       6.400000   \n",
       "75%     7.922000e+02            51.100000       4.600000      17.900000   \n",
       "max     1.246921e+06        108294.600000    3012.000000   90682.300000   \n",
       "\n",
       "       ProteinContent  RecipeServings  \n",
       "count   522517.000000   339606.000000  \n",
       "mean        17.469510        8.606191  \n",
       "std         40.128837      114.319809  \n",
       "min          0.000000        1.000000  \n",
       "25%          3.500000        4.000000  \n",
       "50%          9.100000        6.000000  \n",
       "75%         25.000000        8.000000  \n",
       "max      18396.200000    32767.000000  "
      ]
     },
     "execution_count": 102,
     "metadata": {},
     "output_type": "execute_result"
    }
   ],
   "source": [
    "df.describe()"
   ]
  },
  {
   "cell_type": "code",
   "execution_count": 103,
   "metadata": {},
   "outputs": [
    {
     "data": {
      "text/plain": [
       "RecipeId                           0\n",
       "Name                               0\n",
       "AuthorId                           0\n",
       "AuthorName                         0\n",
       "CookTime                       82545\n",
       "PrepTime                           0\n",
       "TotalTime                          0\n",
       "DatePublished                      0\n",
       "Description                        5\n",
       "Images                             1\n",
       "RecipeCategory                   751\n",
       "Keywords                       17237\n",
       "RecipeIngredientQuantities         3\n",
       "RecipeIngredientParts              0\n",
       "AggregatedRating              253223\n",
       "ReviewCount                   247489\n",
       "Calories                           0\n",
       "FatContent                         0\n",
       "SaturatedFatContent                0\n",
       "CholesterolContent                 0\n",
       "SodiumContent                      0\n",
       "CarbohydrateContent                0\n",
       "FiberContent                       0\n",
       "SugarContent                       0\n",
       "ProteinContent                     0\n",
       "RecipeServings                182911\n",
       "RecipeYield                   348071\n",
       "RecipeInstructions                 0\n",
       "dtype: int64"
      ]
     },
     "execution_count": 103,
     "metadata": {},
     "output_type": "execute_result"
    }
   ],
   "source": [
    "# Calculate how many null values are in each\n",
    "df.isnull().sum()"
   ]
  },
  {
   "cell_type": "code",
   "execution_count": 104,
   "metadata": {},
   "outputs": [
    {
     "data": {
      "text/plain": [
       "Index(['RecipeId', 'Name', 'AuthorId', 'AuthorName', 'CookTime', 'PrepTime',\n",
       "       'TotalTime', 'DatePublished', 'Description', 'Images', 'RecipeCategory',\n",
       "       'Keywords', 'RecipeIngredientQuantities', 'RecipeIngredientParts',\n",
       "       'AggregatedRating', 'ReviewCount', 'Calories', 'FatContent',\n",
       "       'SaturatedFatContent', 'CholesterolContent', 'SodiumContent',\n",
       "       'CarbohydrateContent', 'FiberContent', 'SugarContent', 'ProteinContent',\n",
       "       'RecipeServings', 'RecipeYield', 'RecipeInstructions'],\n",
       "      dtype='object')"
      ]
     },
     "execution_count": 104,
     "metadata": {},
     "output_type": "execute_result"
    }
   ],
   "source": [
    "# Name of the columns/features\n",
    "df.columns"
   ]
  },
  {
   "cell_type": "code",
   "execution_count": 105,
   "metadata": {},
   "outputs": [
    {
     "data": {
      "text/html": [
       "<div>\n",
       "<style scoped>\n",
       "    .dataframe tbody tr th:only-of-type {\n",
       "        vertical-align: middle;\n",
       "    }\n",
       "\n",
       "    .dataframe tbody tr th {\n",
       "        vertical-align: top;\n",
       "    }\n",
       "\n",
       "    .dataframe thead th {\n",
       "        text-align: right;\n",
       "    }\n",
       "</style>\n",
       "<table border=\"1\" class=\"dataframe\">\n",
       "  <thead>\n",
       "    <tr style=\"text-align: right;\">\n",
       "      <th></th>\n",
       "      <th>RecipeId</th>\n",
       "      <th>Name</th>\n",
       "      <th>AuthorId</th>\n",
       "      <th>AuthorName</th>\n",
       "      <th>CookTime</th>\n",
       "      <th>PrepTime</th>\n",
       "      <th>TotalTime</th>\n",
       "      <th>DatePublished</th>\n",
       "      <th>Description</th>\n",
       "      <th>Images</th>\n",
       "      <th>RecipeCategory</th>\n",
       "      <th>Keywords</th>\n",
       "      <th>RecipeIngredientQuantities</th>\n",
       "      <th>RecipeIngredientParts</th>\n",
       "      <th>AggregatedRating</th>\n",
       "      <th>ReviewCount</th>\n",
       "      <th>Calories</th>\n",
       "      <th>FatContent</th>\n",
       "      <th>SaturatedFatContent</th>\n",
       "      <th>CholesterolContent</th>\n",
       "      <th>SodiumContent</th>\n",
       "      <th>CarbohydrateContent</th>\n",
       "      <th>FiberContent</th>\n",
       "      <th>SugarContent</th>\n",
       "      <th>ProteinContent</th>\n",
       "      <th>RecipeServings</th>\n",
       "      <th>RecipeYield</th>\n",
       "      <th>RecipeInstructions</th>\n",
       "    </tr>\n",
       "  </thead>\n",
       "  <tbody>\n",
       "    <tr>\n",
       "      <th>0</th>\n",
       "      <td>38</td>\n",
       "      <td>Low-Fat Berry Blue Frozen Dessert</td>\n",
       "      <td>1533</td>\n",
       "      <td>Dancer</td>\n",
       "      <td>PT24H</td>\n",
       "      <td>PT45M</td>\n",
       "      <td>PT24H45M</td>\n",
       "      <td>1999-08-09T21:46:00Z</td>\n",
       "      <td>Make and share this Low-Fat Berry Blue Frozen ...</td>\n",
       "      <td>c(\"https://img.sndimg.com/food/image/upload/w_...</td>\n",
       "      <td>Frozen Desserts</td>\n",
       "      <td>c(\"Dessert\", \"Low Protein\", \"Low Cholesterol\",...</td>\n",
       "      <td>c(\"4\", \"1/4\", \"1\", \"1\")</td>\n",
       "      <td>c(\"blueberries\", \"granulated sugar\", \"vanilla ...</td>\n",
       "      <td>4.5</td>\n",
       "      <td>4.0</td>\n",
       "      <td>170.9</td>\n",
       "      <td>2.5</td>\n",
       "      <td>1.3</td>\n",
       "      <td>8.0</td>\n",
       "      <td>29.8</td>\n",
       "      <td>37.1</td>\n",
       "      <td>3.6</td>\n",
       "      <td>30.2</td>\n",
       "      <td>3.2</td>\n",
       "      <td>4.0</td>\n",
       "      <td>NaN</td>\n",
       "      <td>c(\"Toss 2 cups berries with sugar.\", \"Let stan...</td>\n",
       "    </tr>\n",
       "    <tr>\n",
       "      <th>1</th>\n",
       "      <td>39</td>\n",
       "      <td>Biryani</td>\n",
       "      <td>1567</td>\n",
       "      <td>elly9812</td>\n",
       "      <td>PT25M</td>\n",
       "      <td>PT4H</td>\n",
       "      <td>PT4H25M</td>\n",
       "      <td>1999-08-29T13:12:00Z</td>\n",
       "      <td>Make and share this Biryani recipe from Food.com.</td>\n",
       "      <td>c(\"https://img.sndimg.com/food/image/upload/w_...</td>\n",
       "      <td>Chicken Breast</td>\n",
       "      <td>c(\"Chicken Thigh &amp; Leg\", \"Chicken\", \"Poultry\",...</td>\n",
       "      <td>c(\"1\", \"4\", \"2\", \"2\", \"8\", \"1/4\", \"8\", \"1/2\", ...</td>\n",
       "      <td>c(\"saffron\", \"milk\", \"hot green chili peppers\"...</td>\n",
       "      <td>3.0</td>\n",
       "      <td>1.0</td>\n",
       "      <td>1110.7</td>\n",
       "      <td>58.8</td>\n",
       "      <td>16.6</td>\n",
       "      <td>372.8</td>\n",
       "      <td>368.4</td>\n",
       "      <td>84.4</td>\n",
       "      <td>9.0</td>\n",
       "      <td>20.4</td>\n",
       "      <td>63.4</td>\n",
       "      <td>6.0</td>\n",
       "      <td>NaN</td>\n",
       "      <td>c(\"Soak saffron in warm milk for 5 minutes and...</td>\n",
       "    </tr>\n",
       "    <tr>\n",
       "      <th>2</th>\n",
       "      <td>40</td>\n",
       "      <td>Best Lemonade</td>\n",
       "      <td>1566</td>\n",
       "      <td>Stephen Little</td>\n",
       "      <td>PT5M</td>\n",
       "      <td>PT30M</td>\n",
       "      <td>PT35M</td>\n",
       "      <td>1999-09-05T19:52:00Z</td>\n",
       "      <td>This is from one of my  first Good House Keepi...</td>\n",
       "      <td>c(\"https://img.sndimg.com/food/image/upload/w_...</td>\n",
       "      <td>Beverages</td>\n",
       "      <td>c(\"Low Protein\", \"Low Cholesterol\", \"Healthy\",...</td>\n",
       "      <td>c(\"1 1/2\", \"1\", NA, \"1 1/2\", NA, \"3/4\")</td>\n",
       "      <td>c(\"sugar\", \"lemons, rind of\", \"lemon, zest of\"...</td>\n",
       "      <td>4.5</td>\n",
       "      <td>10.0</td>\n",
       "      <td>311.1</td>\n",
       "      <td>0.2</td>\n",
       "      <td>0.0</td>\n",
       "      <td>0.0</td>\n",
       "      <td>1.8</td>\n",
       "      <td>81.5</td>\n",
       "      <td>0.4</td>\n",
       "      <td>77.2</td>\n",
       "      <td>0.3</td>\n",
       "      <td>4.0</td>\n",
       "      <td>NaN</td>\n",
       "      <td>c(\"Into a 1 quart Jar with tight fitting lid, ...</td>\n",
       "    </tr>\n",
       "  </tbody>\n",
       "</table>\n",
       "</div>"
      ],
      "text/plain": [
       "   RecipeId                               Name  AuthorId      AuthorName  \\\n",
       "0        38  Low-Fat Berry Blue Frozen Dessert      1533          Dancer   \n",
       "1        39                            Biryani      1567        elly9812   \n",
       "2        40                      Best Lemonade      1566  Stephen Little   \n",
       "\n",
       "  CookTime PrepTime TotalTime         DatePublished  \\\n",
       "0    PT24H    PT45M  PT24H45M  1999-08-09T21:46:00Z   \n",
       "1    PT25M     PT4H   PT4H25M  1999-08-29T13:12:00Z   \n",
       "2     PT5M    PT30M     PT35M  1999-09-05T19:52:00Z   \n",
       "\n",
       "                                         Description  \\\n",
       "0  Make and share this Low-Fat Berry Blue Frozen ...   \n",
       "1  Make and share this Biryani recipe from Food.com.   \n",
       "2  This is from one of my  first Good House Keepi...   \n",
       "\n",
       "                                              Images   RecipeCategory  \\\n",
       "0  c(\"https://img.sndimg.com/food/image/upload/w_...  Frozen Desserts   \n",
       "1  c(\"https://img.sndimg.com/food/image/upload/w_...   Chicken Breast   \n",
       "2  c(\"https://img.sndimg.com/food/image/upload/w_...        Beverages   \n",
       "\n",
       "                                            Keywords  \\\n",
       "0  c(\"Dessert\", \"Low Protein\", \"Low Cholesterol\",...   \n",
       "1  c(\"Chicken Thigh & Leg\", \"Chicken\", \"Poultry\",...   \n",
       "2  c(\"Low Protein\", \"Low Cholesterol\", \"Healthy\",...   \n",
       "\n",
       "                          RecipeIngredientQuantities  \\\n",
       "0                            c(\"4\", \"1/4\", \"1\", \"1\")   \n",
       "1  c(\"1\", \"4\", \"2\", \"2\", \"8\", \"1/4\", \"8\", \"1/2\", ...   \n",
       "2            c(\"1 1/2\", \"1\", NA, \"1 1/2\", NA, \"3/4\")   \n",
       "\n",
       "                               RecipeIngredientParts  AggregatedRating  \\\n",
       "0  c(\"blueberries\", \"granulated sugar\", \"vanilla ...               4.5   \n",
       "1  c(\"saffron\", \"milk\", \"hot green chili peppers\"...               3.0   \n",
       "2  c(\"sugar\", \"lemons, rind of\", \"lemon, zest of\"...               4.5   \n",
       "\n",
       "   ReviewCount  Calories  FatContent  SaturatedFatContent  CholesterolContent  \\\n",
       "0          4.0     170.9         2.5                  1.3                 8.0   \n",
       "1          1.0    1110.7        58.8                 16.6               372.8   \n",
       "2         10.0     311.1         0.2                  0.0                 0.0   \n",
       "\n",
       "   SodiumContent  CarbohydrateContent  FiberContent  SugarContent  \\\n",
       "0           29.8                 37.1           3.6          30.2   \n",
       "1          368.4                 84.4           9.0          20.4   \n",
       "2            1.8                 81.5           0.4          77.2   \n",
       "\n",
       "   ProteinContent  RecipeServings RecipeYield  \\\n",
       "0             3.2             4.0         NaN   \n",
       "1            63.4             6.0         NaN   \n",
       "2             0.3             4.0         NaN   \n",
       "\n",
       "                                  RecipeInstructions  \n",
       "0  c(\"Toss 2 cups berries with sugar.\", \"Let stan...  \n",
       "1  c(\"Soak saffron in warm milk for 5 minutes and...  \n",
       "2  c(\"Into a 1 quart Jar with tight fitting lid, ...  "
      ]
     },
     "execution_count": 105,
     "metadata": {},
     "output_type": "execute_result"
    }
   ],
   "source": [
    "# Preview of the data\n",
    "df.head(3)"
   ]
  },
  {
   "cell_type": "markdown",
   "metadata": {},
   "source": [
    "# Dropping columns not needed for the app\n",
    "\n",
    "---\n",
    "We will copy the dataframe into another variable to maintain cleanliness of the whole dataset. The original will be used for analysis."
   ]
  },
  {
   "cell_type": "code",
   "execution_count": 240,
   "metadata": {
    "scrolled": false
   },
   "outputs": [],
   "source": [
    "tbd = df.drop(columns=['AuthorId','AuthorName',\n",
    " 'DatePublished','AggregatedRating', 'ReviewCount', 'Calories', 'FatContent',\n",
    "       'SaturatedFatContent', 'CholesterolContent', 'SodiumContent',\n",
    "       'CarbohydrateContent', 'FiberContent', 'SugarContent', 'ProteinContent','RecipeYield']).copy()"
   ]
  },
  {
   "cell_type": "code",
   "execution_count": 142,
   "metadata": {},
   "outputs": [
    {
     "data": {
      "text/plain": [
       "Index(['RecipeId', 'Name', 'CookTime', 'PrepTime', 'TotalTime', 'Description',\n",
       "       'Images', 'RecipeCategory', 'Keywords', 'RecipeIngredientQuantities',\n",
       "       'RecipeIngredientParts', 'RecipeServings', 'RecipeInstructions'],\n",
       "      dtype='object')"
      ]
     },
     "execution_count": 142,
     "metadata": {},
     "output_type": "execute_result"
    }
   ],
   "source": [
    "tbd.columns"
   ]
  },
  {
   "cell_type": "code",
   "execution_count": 143,
   "metadata": {
    "scrolled": true
   },
   "outputs": [
    {
     "data": {
      "text/plain": [
       "RecipeId                           0\n",
       "Name                               0\n",
       "CookTime                       82545\n",
       "PrepTime                           0\n",
       "TotalTime                          0\n",
       "Description                        5\n",
       "Images                             1\n",
       "RecipeCategory                   751\n",
       "Keywords                       17237\n",
       "RecipeIngredientQuantities         3\n",
       "RecipeIngredientParts              0\n",
       "RecipeServings                182911\n",
       "RecipeInstructions                 0\n",
       "dtype: int64"
      ]
     },
     "execution_count": 143,
     "metadata": {},
     "output_type": "execute_result"
    }
   ],
   "source": [
    "tbd.isnull().sum()"
   ]
  },
  {
   "cell_type": "markdown",
   "metadata": {},
   "source": [
    "# Determining the nulls \n",
    "\n",
    "---\n",
    "Clean 'RecipeCategory', 'Keywords', RecipeIngredientQuantities, 'RecipeIngredientParts', 'RecipeServings', 'RecipeInstructions'"
   ]
  },
  {
   "cell_type": "code",
   "execution_count": 109,
   "metadata": {},
   "outputs": [
    {
     "data": {
      "text/plain": [
       "RecipeId                                                                  54287\n",
       "Name                                                      Shredded Chicken Soup\n",
       "CookTime                                                                  PT23M\n",
       "PrepTime                                                                  PT20M\n",
       "TotalTime                                                                 PT43M\n",
       "Description                   This recipe was given to me in 1981 by a famou...\n",
       "Images                                                             character(0)\n",
       "RecipeCategory                                                          Chicken\n",
       "Keywords                      c(\"Poultry\", \"Onions\", \"Vegetable\", \"Meat\", \"C...\n",
       "RecipeIngredientQuantities    c(\"4\", \"1\", \"1\", \"1\", \"5\", \"4\", \"1/4\", \"1\", \"1...\n",
       "RecipeIngredientParts         c(\"chicken breasts\", \"tapioca starch\", \"light ...\n",
       "RecipeServings                                                                6\n",
       "RecipeInstructions            c(\"Cook chicken breasts on a grill until just ...\n",
       "Name: 50200, dtype: object"
      ]
     },
     "execution_count": 109,
     "metadata": {},
     "output_type": "execute_result"
    }
   ],
   "source": [
    "tbd.iloc[50200]"
   ]
  },
  {
   "cell_type": "code",
   "execution_count": 126,
   "metadata": {
    "scrolled": true
   },
   "outputs": [
    {
     "data": {
      "text/plain": [
       "RecipeCategory                   751\n",
       "Keywords                       17237\n",
       "RecipeIngredientQuantities         3\n",
       "RecipeIngredientParts              0\n",
       "RecipeServings                182911\n",
       "RecipeInstructions                 0\n",
       "dtype: int64"
      ]
     },
     "execution_count": 126,
     "metadata": {},
     "output_type": "execute_result"
    }
   ],
   "source": [
    "# Calculate how many nulls we have to deal with\n",
    "tbd[['RecipeCategory', 'Keywords', 'RecipeIngredientQuantities', 'RecipeIngredientParts', 'RecipeServings', 'RecipeInstructions']].isnull().sum()"
   ]
  },
  {
   "cell_type": "code",
   "execution_count": 222,
   "metadata": {},
   "outputs": [],
   "source": [
    "# There are 3 null values in RecipeIngredientQuanities, we will drop those rows for they are irrelevant\n",
    "tbd.dropna(subset=['RecipeIngredientQuantities'], inplace=True)"
   ]
  },
  {
   "cell_type": "code",
   "execution_count": 111,
   "metadata": {},
   "outputs": [],
   "source": [
    "# Function to extract list of rows with nulls in specific cols\n",
    "def get_nulls_list(df, column_name, keyword=''): # takes in a dataframe, column name, keyword to fill in null\n",
    "    # First it fills in all nulls in separate dataframe\n",
    "    d = df.copy().fillna(keyword)\n",
    "    # Instantiate a list\n",
    "    res = []\n",
    "    # Iterates through each row of datagframe\n",
    "    for i in range(len(d)):\n",
    "        if d.iloc[i][column_name] == keyword: \n",
    "            # If the particular col in a row matches keyword you choose, it is a null and is added to the list\n",
    "            res.append(df.iloc[i])\n",
    "    # Returns a list of the np.arrays containing nulls in that particular column\n",
    "    return res"
   ]
  },
  {
   "cell_type": "code",
   "execution_count": 130,
   "metadata": {
    "scrolled": true
   },
   "outputs": [],
   "source": [
    "## TO AVOID RE RUNNING AGAIN ##\n",
    "# List of lists with nulls in particular columns\n",
    "\n",
    "# null_recipecategory = get_nulls_list(tbd, 'RecipeCategory', 'NULL')\n",
    "null_keywords = get_nulls_list(tbd, 'Keywords', 'NULL')\n",
    "null_recipeservings = get_nulls_list(tbd, 'RecipeServings', 'NULL')"
   ]
  },
  {
   "cell_type": "code",
   "execution_count": 132,
   "metadata": {},
   "outputs": [
    {
     "data": {
      "text/plain": [
       "(751, 17237, 182909)"
      ]
     },
     "execution_count": 132,
     "metadata": {},
     "output_type": "execute_result"
    }
   ],
   "source": [
    "len(null_recipecategory), len(null_keywords), len(null_recipeservings)"
   ]
  },
  {
   "cell_type": "code",
   "execution_count": 223,
   "metadata": {
    "scrolled": true
   },
   "outputs": [
    {
     "data": {
      "text/plain": [
       "RecipeId                           0\n",
       "Name                               0\n",
       "CookTime                       82542\n",
       "PrepTime                           0\n",
       "TotalTime                          0\n",
       "Description                        5\n",
       "Images                             1\n",
       "RecipeCategory                   751\n",
       "Keywords                       17237\n",
       "RecipeIngredientQuantities         0\n",
       "RecipeIngredientParts              0\n",
       "RecipeServings                182909\n",
       "RecipeInstructions                 0\n",
       "dtype: int64"
      ]
     },
     "execution_count": 223,
     "metadata": {},
     "output_type": "execute_result"
    }
   ],
   "source": [
    "# Check to make sure it is untouched\n",
    "tbd.isnull().sum()"
   ]
  },
  {
   "cell_type": "code",
   "execution_count": 241,
   "metadata": {},
   "outputs": [
    {
     "data": {
      "text/plain": [
       "RecipeId                           0\n",
       "Name                               0\n",
       "CookTime                       82545\n",
       "PrepTime                           0\n",
       "TotalTime                          0\n",
       "Description                        5\n",
       "Images                             1\n",
       "RecipeCategory                     0\n",
       "Keywords                       17237\n",
       "RecipeIngredientQuantities         3\n",
       "RecipeIngredientParts              0\n",
       "RecipeServings                182911\n",
       "RecipeInstructions                 0\n",
       "dtype: int64"
      ]
     },
     "execution_count": 241,
     "metadata": {},
     "output_type": "execute_result"
    }
   ],
   "source": [
    "# We will fill the nulls in RecipeCategory with Various\n",
    "tbd['RecipeCategory'].fillna('Any',inplace=True)\n",
    "tbd.isnull().sum()"
   ]
  },
  {
   "cell_type": "code",
   "execution_count": 133,
   "metadata": {},
   "outputs": [
    {
     "name": "stdout",
     "output_type": "stream",
     "text": [
      "There are 522514 unique values in the RecipeId column.\n",
      "There are 438186 unique values in the Name column.\n",
      "There are 491 unique values in the CookTime column.\n",
      "There are 318 unique values in the PrepTime column.\n",
      "There are 1240 unique values in the TotalTime column.\n",
      "There are 492836 unique values in the Description column.\n",
      "There are 165890 unique values in the Images column.\n",
      "There are 312 unique values in the RecipeCategory column.\n",
      "There are 216569 unique values in the Keywords column.\n",
      "There are 459571 unique values in the RecipeIngredientQuantities column.\n",
      "There are 497120 unique values in the RecipeIngredientParts column.\n",
      "There are 172 unique values in the RecipeServings column.\n",
      "There are 519990 unique values in the RecipeInstructions column.\n"
     ]
    }
   ],
   "source": [
    "for col in tbd.columns:\n",
    "    print('There are {} unique values in the {} column.'.format(len(tbd[col].unique()),col))"
   ]
  },
  {
   "cell_type": "markdown",
   "metadata": {},
   "source": [
    "# Cleaning the data"
   ]
  },
  {
   "cell_type": "code",
   "execution_count": 224,
   "metadata": {
    "scrolled": true
   },
   "outputs": [
    {
     "data": {
      "text/html": [
       "<div>\n",
       "<style scoped>\n",
       "    .dataframe tbody tr th:only-of-type {\n",
       "        vertical-align: middle;\n",
       "    }\n",
       "\n",
       "    .dataframe tbody tr th {\n",
       "        vertical-align: top;\n",
       "    }\n",
       "\n",
       "    .dataframe thead th {\n",
       "        text-align: right;\n",
       "    }\n",
       "</style>\n",
       "<table border=\"1\" class=\"dataframe\">\n",
       "  <thead>\n",
       "    <tr style=\"text-align: right;\">\n",
       "      <th></th>\n",
       "      <th>RecipeId</th>\n",
       "      <th>Name</th>\n",
       "      <th>CookTime</th>\n",
       "      <th>PrepTime</th>\n",
       "      <th>TotalTime</th>\n",
       "      <th>Description</th>\n",
       "      <th>Images</th>\n",
       "      <th>RecipeCategory</th>\n",
       "      <th>Keywords</th>\n",
       "      <th>RecipeIngredientQuantities</th>\n",
       "      <th>RecipeIngredientParts</th>\n",
       "      <th>RecipeServings</th>\n",
       "      <th>RecipeInstructions</th>\n",
       "    </tr>\n",
       "  </thead>\n",
       "  <tbody>\n",
       "    <tr>\n",
       "      <th>0</th>\n",
       "      <td>38</td>\n",
       "      <td>Low-Fat Berry Blue Frozen Dessert</td>\n",
       "      <td>PT24H</td>\n",
       "      <td>PT45M</td>\n",
       "      <td>PT24H45M</td>\n",
       "      <td>Make and share this Low-Fat Berry Blue Frozen ...</td>\n",
       "      <td>c(\"https://img.sndimg.com/food/image/upload/w_...</td>\n",
       "      <td>Frozen Desserts</td>\n",
       "      <td>c(\"Dessert\", \"Low Protein\", \"Low Cholesterol\",...</td>\n",
       "      <td>c(\"4\", \"1/4\", \"1\", \"1\")</td>\n",
       "      <td>c(\"blueberries\", \"granulated sugar\", \"vanilla ...</td>\n",
       "      <td>4.0</td>\n",
       "      <td>c(\"Toss 2 cups berries with sugar.\", \"Let stan...</td>\n",
       "    </tr>\n",
       "  </tbody>\n",
       "</table>\n",
       "</div>"
      ],
      "text/plain": [
       "   RecipeId                               Name CookTime PrepTime TotalTime  \\\n",
       "0        38  Low-Fat Berry Blue Frozen Dessert    PT24H    PT45M  PT24H45M   \n",
       "\n",
       "                                         Description  \\\n",
       "0  Make and share this Low-Fat Berry Blue Frozen ...   \n",
       "\n",
       "                                              Images   RecipeCategory  \\\n",
       "0  c(\"https://img.sndimg.com/food/image/upload/w_...  Frozen Desserts   \n",
       "\n",
       "                                            Keywords  \\\n",
       "0  c(\"Dessert\", \"Low Protein\", \"Low Cholesterol\",...   \n",
       "\n",
       "  RecipeIngredientQuantities  \\\n",
       "0    c(\"4\", \"1/4\", \"1\", \"1\")   \n",
       "\n",
       "                               RecipeIngredientParts  RecipeServings  \\\n",
       "0  c(\"blueberries\", \"granulated sugar\", \"vanilla ...             4.0   \n",
       "\n",
       "                                  RecipeInstructions  \n",
       "0  c(\"Toss 2 cups berries with sugar.\", \"Let stan...  "
      ]
     },
     "execution_count": 224,
     "metadata": {},
     "output_type": "execute_result"
    }
   ],
   "source": [
    "tbd.head(1)"
   ]
  },
  {
   "cell_type": "code",
   "execution_count": 227,
   "metadata": {
    "scrolled": true
   },
   "outputs": [
    {
     "name": "stdout",
     "output_type": "stream",
     "text": [
      "1 c(\"Dessert\", \"Low Protein\", \"Low Cholesterol\", \"Healthy\", \"Free Of...\", \"Summer\", \"Weeknight\", \"Freezer\", \"Easy\")\n",
      "2 ['Dessert', ' Low Protein', ' Low Cholesterol', ' Healthy', ' Free Of...', ' Summer', ' Weeknight', ' Freezer', ' Easy']\n",
      "3 ['Dessert', 'Low Protein', 'Low Cholesterol', 'Healthy', 'Free Of...', 'Summer', 'Weeknight', 'Freezer', 'Easy']\n",
      "1 c(\"Chicken Thigh & Leg\", \"Chicken\", \"Poultry\", \"Meat\", \"Asian\", \"Indian\", \"Weeknight\", \"Stove Top\")\n",
      "2 ['Chicken Thigh & Leg', ' Chicken', ' Poultry', ' Meat', ' Asian', ' Indian', ' Weeknight', ' Stove Top']\n",
      "3 ['Chicken Thigh & Leg', 'Chicken', 'Poultry', 'Meat', 'Asian', 'Indian', 'Weeknight', 'Stove Top']\n",
      "1 c(\"Low Protein\", \"Low Cholesterol\", \"Healthy\", \"Summer\", \"< 60 Mins\")\n",
      "2 ['Low Protein', ' Low Cholesterol', ' Healthy', ' Summer', ' < 60 Mins']\n",
      "3 ['Low Protein', 'Low Cholesterol', 'Healthy', 'Summer', '< 60 Mins']\n",
      "1 c(\"Beans\", \"Vegetable\", \"Low Cholesterol\", \"Weeknight\", \"Broil/Grill\", \"Oven\")\n",
      "2 ['Beans', ' Vegetable', ' Low Cholesterol', ' Weeknight', ' Broil/Grill', ' Oven']\n",
      "3 ['Beans', 'Vegetable', 'Low Cholesterol', 'Weeknight', 'Broil/Grill', 'Oven']\n",
      "1 c(\"Low Protein\", \"Vegan\", \"Low Cholesterol\", \"Healthy\", \"Winter\", \"< 60 Mins\", \"Easy\")\n",
      "2 ['Low Protein', ' Vegan', ' Low Cholesterol', ' Healthy', ' Winter', ' < 60 Mins', ' Easy']\n",
      "3 ['Low Protein', 'Vegan', 'Low Cholesterol', 'Healthy', 'Winter', '< 60 Mins', 'Easy']\n",
      "1 c(\"Dessert\", \"Weeknight\", \"Stove Top\", \"< 4 Hours\")\n",
      "2 ['Dessert', ' Weeknight', ' Stove Top', ' < 4 Hours']\n",
      "3 ['Dessert', 'Weeknight', 'Stove Top', '< 4 Hours']\n",
      "1 c(\"Poultry\", \"Meat\", \"< 60 Mins\")\n",
      "2 ['Poultry', ' Meat', ' < 60 Mins']\n",
      "3 ['Poultry', 'Meat', '< 60 Mins']\n",
      "1 c(\"Dessert\", \"Healthy\", \"Weeknight\", \"Oven\", \"< 4 Hours\")\n",
      "2 ['Dessert', ' Healthy', ' Weeknight', ' Oven', ' < 4 Hours']\n",
      "3 ['Dessert', 'Healthy', 'Weeknight', 'Oven', '< 4 Hours']\n",
      "1 c(\"Thai\", \"Asian\", \"Free Of...\", \"< 30 Mins\")\n",
      "2 ['Thai', ' Asian', ' Free Of...', ' < 30 Mins']\n",
      "3 ['Thai', 'Asian', 'Free Of...', '< 30 Mins']\n",
      "1 c(\"Cookie & Brownie\", \"Fruit\", \"Nuts\", \"Weeknight\", \"Oven\", \"< 4 Hours\")\n",
      "2 ['Cookie & Brownie', ' Fruit', ' Nuts', ' Weeknight', ' Oven', ' < 4 Hours']\n",
      "3 ['Cookie & Brownie', 'Fruit', 'Nuts', 'Weeknight', 'Oven', '< 4 Hours']\n",
      "1 c(\"Dessert\", \"Weeknight\", \"Oven\", \"< 4 Hours\")\n",
      "2 ['Dessert', ' Weeknight', ' Oven', ' < 4 Hours']\n",
      "3 ['Dessert', 'Weeknight', 'Oven', '< 4 Hours']\n",
      "1 c(\"Chicken\", \"Poultry\", \"Meat\", \"European\", \"Very Low Carbs\", \"Weeknight\", \"Oven\", \"< 4 Hours\")\n",
      "2 ['Chicken', ' Poultry', ' Meat', ' European', ' Very Low Carbs', ' Weeknight', ' Oven', ' < 4 Hours']\n",
      "3 ['Chicken', 'Poultry', 'Meat', 'European', 'Very Low Carbs', 'Weeknight', 'Oven', '< 4 Hours']\n",
      "1 c(\"Cookie & Brownie\", \"European\", \"Weeknight\", \"Oven\", \"< 4 Hours\")\n",
      "2 ['Cookie & Brownie', ' European', ' Weeknight', ' Oven', ' < 4 Hours']\n",
      "3 ['Cookie & Brownie', 'European', 'Weeknight', 'Oven', '< 4 Hours']\n",
      "1 c(\"Free Of...\", \"< 60 Mins\")\n",
      "2 ['Free Of...', ' < 60 Mins']\n",
      "3 ['Free Of...', '< 60 Mins']\n",
      "1 c(\"Low Cholesterol\", \"High Protein\", \"Healthy\", \"High In...\", \"< 15 Mins\", \"For Large Groups\", \"No Cook\", \"Easy\")\n",
      "2 ['Low Cholesterol', ' High Protein', ' Healthy', ' High In...', ' < 15 Mins', ' For Large Groups', ' No Cook', ' Easy']\n",
      "3 ['Low Cholesterol', 'High Protein', 'Healthy', 'High In...', '< 15 Mins', 'For Large Groups', 'No Cook', 'Easy']\n"
     ]
    }
   ],
   "source": [
    "for i in range(len(tbd)):\n",
    "    print(1,tbd.iloc[i]['Keywords'])\n",
    "    w = tbd.iloc[i]['Keywords'].replace('\"','').replace('c(','').replace(')','').split(',')\n",
    "    print(2,w)\n",
    "    for j in range(len(w)):\n",
    "        if w[j][0] == ' ':\n",
    "            w[j] = w[j][1:]\n",
    "            \n",
    "    # Once we finish formatting, then we replace it \n",
    "#     tbd.iloc[i]['Keywords'] = w\n",
    "    print(3,w) "
   ]
  },
  {
   "cell_type": "code",
   "execution_count": 187,
   "metadata": {
    "scrolled": true
   },
   "outputs": [
    {
     "data": {
      "text/plain": [
       "list"
      ]
     },
     "execution_count": 187,
     "metadata": {},
     "output_type": "execute_result"
    }
   ],
   "source": [
    "type(tbd.iloc[i]['Keywords'].replace('\"','').replace('c(','').replace(')','').split(','))"
   ]
  },
  {
   "cell_type": "code",
   "execution_count": 242,
   "metadata": {},
   "outputs": [
    {
     "data": {
      "text/plain": [
       "'c(\"white chocolate\", \"sugar\", \"butter\", \"eggs\", \"flour\", \"lemons\", \"baking powder\", \"powdered sugar\")'"
      ]
     },
     "execution_count": 242,
     "metadata": {},
     "output_type": "execute_result"
    }
   ],
   "source": [
    "tbd['RecipeIngredientParts'][500000]"
   ]
  },
  {
   "cell_type": "code",
   "execution_count": 225,
   "metadata": {
    "scrolled": true
   },
   "outputs": [
    {
     "name": "stderr",
     "output_type": "stream",
     "text": [
      "C:\\Users\\ncesm\\anaconda3\\lib\\site-packages\\ipykernel_launcher.py:8: SettingWithCopyWarning: \n",
      "A value is trying to be set on a copy of a slice from a DataFrame\n",
      "\n",
      "See the caveats in the documentation: https://pandas.pydata.org/pandas-docs/stable/user_guide/indexing.html#returning-a-view-versus-a-copy\n",
      "  \n"
     ]
    },
    {
     "ename": "KeyboardInterrupt",
     "evalue": "",
     "output_type": "error",
     "traceback": [
      "\u001b[1;31m---------------------------------------------------------------------------\u001b[0m",
      "\u001b[1;31mKeyboardInterrupt\u001b[0m                         Traceback (most recent call last)",
      "\u001b[1;32m<ipython-input-225-b04d3e5e8573>\u001b[0m in \u001b[0;36m<module>\u001b[1;34m\u001b[0m\n\u001b[0;32m      6\u001b[0m         \u001b[1;32mif\u001b[0m \u001b[0mw\u001b[0m\u001b[1;33m[\u001b[0m\u001b[0mj\u001b[0m\u001b[1;33m]\u001b[0m\u001b[1;33m[\u001b[0m\u001b[1;36m0\u001b[0m\u001b[1;33m]\u001b[0m \u001b[1;33m==\u001b[0m \u001b[1;34m' '\u001b[0m\u001b[1;33m:\u001b[0m\u001b[1;33m\u001b[0m\u001b[1;33m\u001b[0m\u001b[0m\n\u001b[0;32m      7\u001b[0m             \u001b[0mw\u001b[0m\u001b[1;33m[\u001b[0m\u001b[0mj\u001b[0m\u001b[1;33m]\u001b[0m \u001b[1;33m=\u001b[0m \u001b[0mw\u001b[0m\u001b[1;33m[\u001b[0m\u001b[0mj\u001b[0m\u001b[1;33m]\u001b[0m\u001b[1;33m[\u001b[0m\u001b[1;36m1\u001b[0m\u001b[1;33m:\u001b[0m\u001b[1;33m]\u001b[0m\u001b[1;33m\u001b[0m\u001b[1;33m\u001b[0m\u001b[0m\n\u001b[1;32m----> 8\u001b[1;33m     \u001b[0mtbd\u001b[0m\u001b[1;33m[\u001b[0m\u001b[1;34m'RecipeIngredientParts'\u001b[0m\u001b[1;33m]\u001b[0m\u001b[1;33m[\u001b[0m\u001b[0mi\u001b[0m\u001b[1;33m]\u001b[0m \u001b[1;33m=\u001b[0m \u001b[0mw\u001b[0m\u001b[1;33m\u001b[0m\u001b[1;33m\u001b[0m\u001b[0m\n\u001b[0m\u001b[0;32m      9\u001b[0m \u001b[1;31m#     print(3,w)\u001b[0m\u001b[1;33m\u001b[0m\u001b[1;33m\u001b[0m\u001b[1;33m\u001b[0m\u001b[0m\n",
      "\u001b[1;32m~\\anaconda3\\lib\\site-packages\\pandas\\core\\series.py\u001b[0m in \u001b[0;36m__setitem__\u001b[1;34m(self, key, value)\u001b[0m\n\u001b[0;32m   1027\u001b[0m \u001b[1;33m\u001b[0m\u001b[0m\n\u001b[0;32m   1028\u001b[0m         \u001b[1;32mif\u001b[0m \u001b[0mcacher_needs_updating\u001b[0m\u001b[1;33m:\u001b[0m\u001b[1;33m\u001b[0m\u001b[1;33m\u001b[0m\u001b[0m\n\u001b[1;32m-> 1029\u001b[1;33m             \u001b[0mself\u001b[0m\u001b[1;33m.\u001b[0m\u001b[0m_maybe_update_cacher\u001b[0m\u001b[1;33m(\u001b[0m\u001b[1;33m)\u001b[0m\u001b[1;33m\u001b[0m\u001b[1;33m\u001b[0m\u001b[0m\n\u001b[0m\u001b[0;32m   1030\u001b[0m \u001b[1;33m\u001b[0m\u001b[0m\n\u001b[0;32m   1031\u001b[0m     \u001b[1;32mdef\u001b[0m \u001b[0m_set_with_engine\u001b[0m\u001b[1;33m(\u001b[0m\u001b[0mself\u001b[0m\u001b[1;33m,\u001b[0m \u001b[0mkey\u001b[0m\u001b[1;33m,\u001b[0m \u001b[0mvalue\u001b[0m\u001b[1;33m)\u001b[0m\u001b[1;33m:\u001b[0m\u001b[1;33m\u001b[0m\u001b[1;33m\u001b[0m\u001b[0m\n",
      "\u001b[1;32m~\\anaconda3\\lib\\site-packages\\pandas\\core\\generic.py\u001b[0m in \u001b[0;36m_maybe_update_cacher\u001b[1;34m(self, clear, verify_is_copy)\u001b[0m\n\u001b[0;32m   3236\u001b[0m                 \u001b[1;32mif\u001b[0m \u001b[0mlen\u001b[0m\u001b[1;33m(\u001b[0m\u001b[0mself\u001b[0m\u001b[1;33m)\u001b[0m \u001b[1;33m==\u001b[0m \u001b[0mlen\u001b[0m\u001b[1;33m(\u001b[0m\u001b[0mref\u001b[0m\u001b[1;33m)\u001b[0m\u001b[1;33m:\u001b[0m\u001b[1;33m\u001b[0m\u001b[1;33m\u001b[0m\u001b[0m\n\u001b[0;32m   3237\u001b[0m                     \u001b[1;31m# otherwise, either self or ref has swapped in new arrays\u001b[0m\u001b[1;33m\u001b[0m\u001b[1;33m\u001b[0m\u001b[1;33m\u001b[0m\u001b[0m\n\u001b[1;32m-> 3238\u001b[1;33m                     \u001b[0mref\u001b[0m\u001b[1;33m.\u001b[0m\u001b[0m_maybe_cache_changed\u001b[0m\u001b[1;33m(\u001b[0m\u001b[0mcacher\u001b[0m\u001b[1;33m[\u001b[0m\u001b[1;36m0\u001b[0m\u001b[1;33m]\u001b[0m\u001b[1;33m,\u001b[0m \u001b[0mself\u001b[0m\u001b[1;33m)\u001b[0m\u001b[1;33m\u001b[0m\u001b[1;33m\u001b[0m\u001b[0m\n\u001b[0m\u001b[0;32m   3239\u001b[0m                 \u001b[1;32melse\u001b[0m\u001b[1;33m:\u001b[0m\u001b[1;33m\u001b[0m\u001b[1;33m\u001b[0m\u001b[0m\n\u001b[0;32m   3240\u001b[0m                     \u001b[1;31m# GH#33675 we have swapped in a new array, so parent\u001b[0m\u001b[1;33m\u001b[0m\u001b[1;33m\u001b[0m\u001b[1;33m\u001b[0m\u001b[0m\n",
      "\u001b[1;32m~\\anaconda3\\lib\\site-packages\\pandas\\core\\generic.py\u001b[0m in \u001b[0;36m_maybe_cache_changed\u001b[1;34m(self, item, value)\u001b[0m\n\u001b[0;32m   3197\u001b[0m         \"\"\"\n\u001b[0;32m   3198\u001b[0m         \u001b[0mloc\u001b[0m \u001b[1;33m=\u001b[0m \u001b[0mself\u001b[0m\u001b[1;33m.\u001b[0m\u001b[0m_info_axis\u001b[0m\u001b[1;33m.\u001b[0m\u001b[0mget_loc\u001b[0m\u001b[1;33m(\u001b[0m\u001b[0mitem\u001b[0m\u001b[1;33m)\u001b[0m\u001b[1;33m\u001b[0m\u001b[1;33m\u001b[0m\u001b[0m\n\u001b[1;32m-> 3199\u001b[1;33m         \u001b[0mself\u001b[0m\u001b[1;33m.\u001b[0m\u001b[0m_mgr\u001b[0m\u001b[1;33m.\u001b[0m\u001b[0miset\u001b[0m\u001b[1;33m(\u001b[0m\u001b[0mloc\u001b[0m\u001b[1;33m,\u001b[0m \u001b[0mvalue\u001b[0m\u001b[1;33m)\u001b[0m\u001b[1;33m\u001b[0m\u001b[1;33m\u001b[0m\u001b[0m\n\u001b[0m\u001b[0;32m   3200\u001b[0m \u001b[1;33m\u001b[0m\u001b[0m\n\u001b[0;32m   3201\u001b[0m     \u001b[1;33m@\u001b[0m\u001b[0mproperty\u001b[0m\u001b[1;33m\u001b[0m\u001b[1;33m\u001b[0m\u001b[0m\n",
      "\u001b[1;32m~\\anaconda3\\lib\\site-packages\\pandas\\core\\internals\\managers.py\u001b[0m in \u001b[0;36miset\u001b[1;34m(self, loc, value)\u001b[0m\n\u001b[0;32m   1094\u001b[0m             \u001b[0mblk_locs\u001b[0m \u001b[1;33m=\u001b[0m \u001b[0mblklocs\u001b[0m\u001b[1;33m[\u001b[0m\u001b[0mval_locs\u001b[0m\u001b[1;33m.\u001b[0m\u001b[0mindexer\u001b[0m\u001b[1;33m]\u001b[0m\u001b[1;33m\u001b[0m\u001b[1;33m\u001b[0m\u001b[0m\n\u001b[0;32m   1095\u001b[0m             \u001b[1;32mif\u001b[0m \u001b[0mblk\u001b[0m\u001b[1;33m.\u001b[0m\u001b[0mshould_store\u001b[0m\u001b[1;33m(\u001b[0m\u001b[0mvalue\u001b[0m\u001b[1;33m)\u001b[0m\u001b[1;33m:\u001b[0m\u001b[1;33m\u001b[0m\u001b[1;33m\u001b[0m\u001b[0m\n\u001b[1;32m-> 1096\u001b[1;33m                 \u001b[0mblk\u001b[0m\u001b[1;33m.\u001b[0m\u001b[0mset\u001b[0m\u001b[1;33m(\u001b[0m\u001b[0mblk_locs\u001b[0m\u001b[1;33m,\u001b[0m \u001b[0mvalue_getitem\u001b[0m\u001b[1;33m(\u001b[0m\u001b[0mval_locs\u001b[0m\u001b[1;33m)\u001b[0m\u001b[1;33m)\u001b[0m\u001b[1;33m\u001b[0m\u001b[1;33m\u001b[0m\u001b[0m\n\u001b[0m\u001b[0;32m   1097\u001b[0m             \u001b[1;32melse\u001b[0m\u001b[1;33m:\u001b[0m\u001b[1;33m\u001b[0m\u001b[1;33m\u001b[0m\u001b[0m\n\u001b[0;32m   1098\u001b[0m                 \u001b[0munfit_mgr_locs\u001b[0m\u001b[1;33m.\u001b[0m\u001b[0mappend\u001b[0m\u001b[1;33m(\u001b[0m\u001b[0mblk\u001b[0m\u001b[1;33m.\u001b[0m\u001b[0mmgr_locs\u001b[0m\u001b[1;33m.\u001b[0m\u001b[0mas_array\u001b[0m\u001b[1;33m[\u001b[0m\u001b[0mblk_locs\u001b[0m\u001b[1;33m]\u001b[0m\u001b[1;33m)\u001b[0m\u001b[1;33m\u001b[0m\u001b[1;33m\u001b[0m\u001b[0m\n",
      "\u001b[1;31mKeyboardInterrupt\u001b[0m: "
     ]
    }
   ],
   "source": [
    "for i in range(len(tbd)):\n",
    "#     print(1,tbd.iloc[i]['RecipeIngredientParts'])\n",
    "    w = tbd['RecipeIngredientParts'][i].replace('\"','').replace('c(','').replace(')','').split(',')\n",
    "#     print(2,w)\n",
    "    for j in range(len(w)):\n",
    "        if w[j][0] == ' ':\n",
    "            w[j] = w[j][1:]\n",
    "    tbd['RecipeIngredientParts'][i] = w\n",
    "#     print(3,w)"
   ]
  },
  {
   "cell_type": "markdown",
   "metadata": {},
   "source": [
    "df is the original dataframe, tbd is the copy of the dataframe but with the columns we don't need dropped"
   ]
  },
  {
   "cell_type": "code",
   "execution_count": 228,
   "metadata": {
    "scrolled": true
   },
   "outputs": [
    {
     "name": "stderr",
     "output_type": "stream",
     "text": [
      "C:\\Users\\ncesm\\anaconda3\\lib\\site-packages\\ipykernel_launcher.py:8: SettingWithCopyWarning: \n",
      "A value is trying to be set on a copy of a slice from a DataFrame\n",
      "\n",
      "See the caveats in the documentation: https://pandas.pydata.org/pandas-docs/stable/user_guide/indexing.html#returning-a-view-versus-a-copy\n",
      "  \n"
     ]
    },
    {
     "ename": "IndexError",
     "evalue": "string index out of range",
     "output_type": "error",
     "traceback": [
      "\u001b[1;31m---------------------------------------------------------------------------\u001b[0m",
      "\u001b[1;31mIndexError\u001b[0m                                Traceback (most recent call last)",
      "\u001b[1;32m<ipython-input-228-20539232689c>\u001b[0m in \u001b[0;36m<module>\u001b[1;34m\u001b[0m\n\u001b[0;32m      4\u001b[0m \u001b[1;31m#     print(2,w)\u001b[0m\u001b[1;33m\u001b[0m\u001b[1;33m\u001b[0m\u001b[1;33m\u001b[0m\u001b[0m\n\u001b[0;32m      5\u001b[0m     \u001b[1;32mfor\u001b[0m \u001b[0mj\u001b[0m \u001b[1;32min\u001b[0m \u001b[0mrange\u001b[0m\u001b[1;33m(\u001b[0m\u001b[0mlen\u001b[0m\u001b[1;33m(\u001b[0m\u001b[0mw\u001b[0m\u001b[1;33m)\u001b[0m\u001b[1;33m)\u001b[0m\u001b[1;33m:\u001b[0m\u001b[1;33m\u001b[0m\u001b[1;33m\u001b[0m\u001b[0m\n\u001b[1;32m----> 6\u001b[1;33m         \u001b[1;32mif\u001b[0m \u001b[0mw\u001b[0m\u001b[1;33m[\u001b[0m\u001b[0mj\u001b[0m\u001b[1;33m]\u001b[0m\u001b[1;33m[\u001b[0m\u001b[1;36m0\u001b[0m\u001b[1;33m]\u001b[0m \u001b[1;33m==\u001b[0m \u001b[1;34m' '\u001b[0m\u001b[1;33m:\u001b[0m\u001b[1;33m\u001b[0m\u001b[1;33m\u001b[0m\u001b[0m\n\u001b[0m\u001b[0;32m      7\u001b[0m             \u001b[0mw\u001b[0m\u001b[1;33m[\u001b[0m\u001b[0mj\u001b[0m\u001b[1;33m]\u001b[0m \u001b[1;33m=\u001b[0m \u001b[0mw\u001b[0m\u001b[1;33m[\u001b[0m\u001b[0mj\u001b[0m\u001b[1;33m]\u001b[0m\u001b[1;33m[\u001b[0m\u001b[1;36m1\u001b[0m\u001b[1;33m:\u001b[0m\u001b[1;33m]\u001b[0m\u001b[1;33m\u001b[0m\u001b[1;33m\u001b[0m\u001b[0m\n\u001b[0;32m      8\u001b[0m     \u001b[0mtbd\u001b[0m\u001b[1;33m[\u001b[0m\u001b[1;34m'RecipeInstructions'\u001b[0m\u001b[1;33m]\u001b[0m\u001b[1;33m[\u001b[0m\u001b[0mi\u001b[0m\u001b[1;33m]\u001b[0m \u001b[1;33m=\u001b[0m \u001b[0mw\u001b[0m\u001b[1;33m\u001b[0m\u001b[1;33m\u001b[0m\u001b[0m\n",
      "\u001b[1;31mIndexError\u001b[0m: string index out of range"
     ]
    }
   ],
   "source": [
    "for i in range(len(tbd)):\n",
    "#     print(1,tbd.iloc[i]['RecipeInstructions'])\n",
    "    w = tbd['RecipeInstructions'][i].replace('\"','').replace('c(','').replace(' (',', ').replace(')','').replace('  ',' ').replace('\\n','').split('.,')\n",
    "#     print(2,w)\n",
    "    for j in range(len(w)):\n",
    "        if w[j][0] == ' ':\n",
    "            w[j] = w[j][1:]\n",
    "    tbd['RecipeInstructions'][i] = w\n",
    "#     print(3,w)"
   ]
  },
  {
   "cell_type": "code",
   "execution_count": null,
   "metadata": {},
   "outputs": [],
   "source": [
    "tbd.head()"
   ]
  },
  {
   "cell_type": "code",
   "execution_count": null,
   "metadata": {},
   "outputs": [],
   "source": []
  }
 ],
 "metadata": {
  "kernelspec": {
   "display_name": "Python 3",
   "language": "python",
   "name": "python3"
  },
  "language_info": {
   "codemirror_mode": {
    "name": "ipython",
    "version": 3
   },
   "file_extension": ".py",
   "mimetype": "text/x-python",
   "name": "python",
   "nbconvert_exporter": "python",
   "pygments_lexer": "ipython3",
   "version": "3.7.6"
  }
 },
 "nbformat": 4,
 "nbformat_minor": 4
}
